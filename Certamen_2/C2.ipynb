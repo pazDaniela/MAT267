{
 "cells": [
  {
   "cell_type": "markdown",
   "metadata": {},
   "source": [
    "# Certamen 2, series de tiempo I"
   ]
  },
  {
   "cell_type": "markdown",
   "metadata": {},
   "source": [
    "-Daniela Díaz Mora \n",
    "\n",
    "-Franco Gonzales\n",
    "\n",
    "-Bastian Araya\n"
   ]
  },
  {
   "cell_type": "markdown",
   "metadata": {},
   "source": [
    "## Brockwell & Davis (2006) Times Series Theory and Methos\n",
    "\n",
    "### Exercise 9.13"
   ]
  },
  {
   "cell_type": "markdown",
   "metadata": {},
   "source": [
    "Para cada uno de las series de tiempo B-F en el apendice A encuentre un modelo ARIMA( o ARMa) que represente las series obtenidas eliminando las ultimas seis obeservaciones.\n",
    "\n",
    "Explca y justifica tu elección del modelo en cada caso, dando intervalos de confianza  para los coeficientes estimados. Use cada modelo ajustado para obtener los valores predictivos de los seis observaciones eliminadas y "
   ]
  },
  {
   "cell_type": "code",
   "execution_count": 3,
   "metadata": {},
   "outputs": [],
   "source": [
    "import pandas as pd\n",
    "import matplotlib.pyplot as plt\n",
    "from datetime import datetime\n",
    "from statsmodels.tsa.statespace.sarimax import SARIMAX"
   ]
  },
  {
   "cell_type": "markdown",
   "metadata": {},
   "source": [
    "### Series B. Dow Jones Utilities Index, 28 Aug - 18 Dec, 1972 "
   ]
  },
  {
   "cell_type": "code",
   "execution_count": 6,
   "metadata": {},
   "outputs": [],
   "source": [
    "Y_B=[110.94,110.69,110.43,110.56,110.75,110.84,110.46,110.56,110.46,110.05,109.60,109.31,109.31,109.25,109.02,108.54,108.77,109.02,109.44,109.38,109.53,109.89,110.56,110.56,110.72,111.23,111.48,111.58,111.90,112.19,114.65,115.06,115.86,116.40,116.44,116.88,118.07,118.51,119.28,119.79,124.11,124.14,123.37,123.02,122.86,123.02,123.11,123.05,123.05,122.83,123.18,122.67,122.73,122.86,122.67,122.09,122.00,121.23]"
   ]
  },
  {
   "cell_type": "markdown",
   "metadata": {},
   "source": [
    "### Series C. Private Housing Units Started, U.S.A (Monthly) [Makridakis 922]"
   ]
  },
  {
   "cell_type": "code",
   "execution_count": 8,
   "metadata": {},
   "outputs": [],
   "source": [
    "Y_C=[1361,1278,1443,1524,1483,1404,1450,1517,1324,1533,1622,1564,1244,1456,1534,1689,1641,1588,1614,1639,1763,1779,1622,1491,1603,1820,1517,1448,1467,1550,1562,1569,1455,1524,1486,1484,1361,1433,1423,1438,1478,1488,1529,1432,1482,1452,1460,1656,1370,1378,1394,1352,1265,1194,1086,1119,1046,843,961,990,1067,1123,1056,1091,1304,1248,1364,1407,1421,1491,1538,1308,1380,1520,1466,1554,1408,1405,1512,1495,1556,1569,1630,1548,1769,1705,1561,1524,1583,1528,1368,1358,1507,1381,1229,1327,1085,1305,1319,1264,1290,1385,1517,1399,1534,1580,1647,1893,1828,1741,1910,1986,2049,2026,2083,2158,2041,2128,2182,2295,2494,2390,2334,2249,2221,2254,2252,2382,2481,2485,2421,2366,2481,2289,2365,2084,2266,2067,2123,2051,1874,1677,1724,1526]"
   ]
  },
  {
   "cell_type": "markdown",
   "metadata": {},
   "source": [
    "### Series D. Industrial Production, Austria (Quarterly). [Makridakis 337]"
   ]
  },
  {
   "cell_type": "code",
   "execution_count": 9,
   "metadata": {},
   "outputs": [],
   "source": [
    "Y_D=[54.1,59.5,56.5,63.9,57.8,62.0,58.5,65.0,59.6,63.6,60.4,66.3,60.6,66.8,63.2,71.0,66.5,72.0,67.8,75.6,69.2,74.1,70.7,77.8,72.3,78.1,72.4,82.6,72.9,79.5,72.6,82.8,76.0,85.1,80.5,89.1,84.8,94.2,89.5,99.3,93.1,103.5,96.4,107.2,101.7,109.5,101.3,112.6,105.5,115.4,108.0,129.9,112.4,123.6,114.9,131.0,122.6,131.9,120.5,130.7,115.7,119.7,109.7,125.1]"
   ]
  },
  {
   "cell_type": "markdown",
   "metadata": {},
   "source": [
    "### Series E. Industrial Production, Spain (Monthly). [Makridakis 868]"
   ]
  },
  {
   "cell_type": "code",
   "execution_count": 10,
   "metadata": {},
   "outputs": [],
   "source": [
    "Y_E=[128,134,133,141,134,142,143,136,108,142,146,149,141,156,151,160,156,160,161,149,118,147,158,146,132,139,139,137,144,146,149,142,101,141,122,145,148,137,137,155,152,153,152,153,113,151,159,165,161,160,167,178,167,176,173,164,123,175,175,176,174]"
   ]
  },
  {
   "cell_type": "markdown",
   "metadata": {},
   "source": [
    "### Series F. General Index of Industrial Production (Monthly). [Makridakis904]"
   ]
  },
  {
   "cell_type": "code",
   "execution_count": null,
   "metadata": {},
   "outputs": [],
   "source": [
    "Y_F=[96,97,99,100,102,106,102,80,104,104,107,102,100,107,110,111,114,113,\n",
    "109,91,116,118,123,121,119,125,131,132,135,138,132,106,134,132,136,132,133,140,142,146,148,149,147,115,150,152,158,154,155,159,160,163,167,160,162,126,160,161,167,167,164,165,173,179,181,182,175,131,183,\n",
    "181,184,179,181,179,187,185,183,177,176,130,176,175,181,176,   \n",
    "175,182,182,185,191,191,188,139,189,190,199,193,195,200,205,208,216,216,210,169,217,213,220,\n",
    "217]"
   ]
  }
 ],
 "metadata": {
  "kernelspec": {
   "display_name": "Python 3",
   "language": "python",
   "name": "python3"
  },
  "language_info": {
   "codemirror_mode": {
    "name": "ipython",
    "version": 3
   },
   "file_extension": ".py",
   "mimetype": "text/x-python",
   "name": "python",
   "nbconvert_exporter": "python",
   "pygments_lexer": "ipython3",
   "version": "3.7.6"
  }
 },
 "nbformat": 4,
 "nbformat_minor": 4
}
